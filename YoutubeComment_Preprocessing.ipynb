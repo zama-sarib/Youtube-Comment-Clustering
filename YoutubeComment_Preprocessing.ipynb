{
  "cells": [
    {
      "cell_type": "code",
      "source": [
        "from google.colab import drive\n",
        "drive.mount('/content/drive')"
      ],
      "metadata": {
        "colab": {
          "base_uri": "https://localhost:8080/"
        },
        "id": "zq94HBXwSFhC",
        "outputId": "76b62bd9-fa8f-41c9-9295-eb9299a290b8"
      },
      "execution_count": 2,
      "outputs": [
        {
          "output_type": "stream",
          "name": "stdout",
          "text": [
            "Drive already mounted at /content/drive; to attempt to forcibly remount, call drive.mount(\"/content/drive\", force_remount=True).\n"
          ]
        }
      ]
    },
    {
      "cell_type": "markdown",
      "source": [
        "### Reading data and performing analysis on it."
      ],
      "metadata": {
        "id": "O1Bn9k0_k1nE"
      }
    },
    {
      "cell_type": "markdown",
      "source": [
        "### Importing necessary Libraries"
      ],
      "metadata": {
        "id": "Omi-Yu6clGxd"
      }
    },
    {
      "cell_type": "code",
      "execution_count": 1,
      "metadata": {
        "id": "II6SPuKtKdwS"
      },
      "outputs": [],
      "source": [
        "import numpy as np\n",
        "import pandas as pd\n",
        "import seaborn as sns\n",
        "import re\n",
        "import os\n",
        "import matplotlib.pyplot as plt\n",
        "%matplotlib inline\n",
        "import warnings\n",
        "warnings.filterwarnings(\"ignore\") \n",
        "import missingno as msno"
      ]
    },
    {
      "cell_type": "markdown",
      "source": [
        "### Reading the csv file from Gdrive"
      ],
      "metadata": {
        "id": "fV4ncycmlP1z"
      }
    },
    {
      "cell_type": "code",
      "execution_count": 3,
      "metadata": {
        "colab": {
          "base_uri": "https://localhost:8080/",
          "height": 225
        },
        "id": "IafSEnRlBETq",
        "outputId": "3a3d3a20-dba9-41a7-95ae-0f839694427b"
      },
      "outputs": [
        {
          "output_type": "stream",
          "name": "stdout",
          "text": [
            "(522478, 5)\n"
          ]
        },
        {
          "output_type": "execute_result",
          "data": {
            "text/plain": [
              "                    user_id  \\\n",
              "0             Nishant Rawat   \n",
              "1  BT20MEC110 Aniket Turkel   \n",
              "2             Sumant Ukkali   \n",
              "3          Ruler Of Heavens   \n",
              "4                     KN SM   \n",
              "\n",
              "                                             comment likes  rank       source  \n",
              "0  I think only Ranjit is there who doesn’t go af...  19.0     1  Geekyranjit  \n",
              "1  I hope I can expect the unboxing of the space ...   5.0     2  Geekyranjit  \n",
              "2  Eagerly waiting for space edition & yes this l...   NaN     3  Geekyranjit  \n",
              "3  Ranjit seems to be very happy about receiving ...   2.0     4  Geekyranjit  \n",
              "4  Sir if possible please include the battery lif...   1.0     5  Geekyranjit  "
            ],
            "text/html": [
              "\n",
              "  <div id=\"df-d7f40488-c448-447a-946b-5c3c15afd80f\">\n",
              "    <div class=\"colab-df-container\">\n",
              "      <div>\n",
              "<style scoped>\n",
              "    .dataframe tbody tr th:only-of-type {\n",
              "        vertical-align: middle;\n",
              "    }\n",
              "\n",
              "    .dataframe tbody tr th {\n",
              "        vertical-align: top;\n",
              "    }\n",
              "\n",
              "    .dataframe thead th {\n",
              "        text-align: right;\n",
              "    }\n",
              "</style>\n",
              "<table border=\"1\" class=\"dataframe\">\n",
              "  <thead>\n",
              "    <tr style=\"text-align: right;\">\n",
              "      <th></th>\n",
              "      <th>user_id</th>\n",
              "      <th>comment</th>\n",
              "      <th>likes</th>\n",
              "      <th>rank</th>\n",
              "      <th>source</th>\n",
              "    </tr>\n",
              "  </thead>\n",
              "  <tbody>\n",
              "    <tr>\n",
              "      <th>0</th>\n",
              "      <td>Nishant Rawat</td>\n",
              "      <td>I think only Ranjit is there who doesn’t go af...</td>\n",
              "      <td>19.0</td>\n",
              "      <td>1</td>\n",
              "      <td>Geekyranjit</td>\n",
              "    </tr>\n",
              "    <tr>\n",
              "      <th>1</th>\n",
              "      <td>BT20MEC110 Aniket Turkel</td>\n",
              "      <td>I hope I can expect the unboxing of the space ...</td>\n",
              "      <td>5.0</td>\n",
              "      <td>2</td>\n",
              "      <td>Geekyranjit</td>\n",
              "    </tr>\n",
              "    <tr>\n",
              "      <th>2</th>\n",
              "      <td>Sumant Ukkali</td>\n",
              "      <td>Eagerly waiting for space edition &amp; yes this l...</td>\n",
              "      <td>NaN</td>\n",
              "      <td>3</td>\n",
              "      <td>Geekyranjit</td>\n",
              "    </tr>\n",
              "    <tr>\n",
              "      <th>3</th>\n",
              "      <td>Ruler Of Heavens</td>\n",
              "      <td>Ranjit seems to be very happy about receiving ...</td>\n",
              "      <td>2.0</td>\n",
              "      <td>4</td>\n",
              "      <td>Geekyranjit</td>\n",
              "    </tr>\n",
              "    <tr>\n",
              "      <th>4</th>\n",
              "      <td>KN SM</td>\n",
              "      <td>Sir if possible please include the battery lif...</td>\n",
              "      <td>1.0</td>\n",
              "      <td>5</td>\n",
              "      <td>Geekyranjit</td>\n",
              "    </tr>\n",
              "  </tbody>\n",
              "</table>\n",
              "</div>\n",
              "      <button class=\"colab-df-convert\" onclick=\"convertToInteractive('df-d7f40488-c448-447a-946b-5c3c15afd80f')\"\n",
              "              title=\"Convert this dataframe to an interactive table.\"\n",
              "              style=\"display:none;\">\n",
              "        \n",
              "  <svg xmlns=\"http://www.w3.org/2000/svg\" height=\"24px\"viewBox=\"0 0 24 24\"\n",
              "       width=\"24px\">\n",
              "    <path d=\"M0 0h24v24H0V0z\" fill=\"none\"/>\n",
              "    <path d=\"M18.56 5.44l.94 2.06.94-2.06 2.06-.94-2.06-.94-.94-2.06-.94 2.06-2.06.94zm-11 1L8.5 8.5l.94-2.06 2.06-.94-2.06-.94L8.5 2.5l-.94 2.06-2.06.94zm10 10l.94 2.06.94-2.06 2.06-.94-2.06-.94-.94-2.06-.94 2.06-2.06.94z\"/><path d=\"M17.41 7.96l-1.37-1.37c-.4-.4-.92-.59-1.43-.59-.52 0-1.04.2-1.43.59L10.3 9.45l-7.72 7.72c-.78.78-.78 2.05 0 2.83L4 21.41c.39.39.9.59 1.41.59.51 0 1.02-.2 1.41-.59l7.78-7.78 2.81-2.81c.8-.78.8-2.07 0-2.86zM5.41 20L4 18.59l7.72-7.72 1.47 1.35L5.41 20z\"/>\n",
              "  </svg>\n",
              "      </button>\n",
              "      \n",
              "  <style>\n",
              "    .colab-df-container {\n",
              "      display:flex;\n",
              "      flex-wrap:wrap;\n",
              "      gap: 12px;\n",
              "    }\n",
              "\n",
              "    .colab-df-convert {\n",
              "      background-color: #E8F0FE;\n",
              "      border: none;\n",
              "      border-radius: 50%;\n",
              "      cursor: pointer;\n",
              "      display: none;\n",
              "      fill: #1967D2;\n",
              "      height: 32px;\n",
              "      padding: 0 0 0 0;\n",
              "      width: 32px;\n",
              "    }\n",
              "\n",
              "    .colab-df-convert:hover {\n",
              "      background-color: #E2EBFA;\n",
              "      box-shadow: 0px 1px 2px rgba(60, 64, 67, 0.3), 0px 1px 3px 1px rgba(60, 64, 67, 0.15);\n",
              "      fill: #174EA6;\n",
              "    }\n",
              "\n",
              "    [theme=dark] .colab-df-convert {\n",
              "      background-color: #3B4455;\n",
              "      fill: #D2E3FC;\n",
              "    }\n",
              "\n",
              "    [theme=dark] .colab-df-convert:hover {\n",
              "      background-color: #434B5C;\n",
              "      box-shadow: 0px 1px 3px 1px rgba(0, 0, 0, 0.15);\n",
              "      filter: drop-shadow(0px 1px 2px rgba(0, 0, 0, 0.3));\n",
              "      fill: #FFFFFF;\n",
              "    }\n",
              "  </style>\n",
              "\n",
              "      <script>\n",
              "        const buttonEl =\n",
              "          document.querySelector('#df-d7f40488-c448-447a-946b-5c3c15afd80f button.colab-df-convert');\n",
              "        buttonEl.style.display =\n",
              "          google.colab.kernel.accessAllowed ? 'block' : 'none';\n",
              "\n",
              "        async function convertToInteractive(key) {\n",
              "          const element = document.querySelector('#df-d7f40488-c448-447a-946b-5c3c15afd80f');\n",
              "          const dataTable =\n",
              "            await google.colab.kernel.invokeFunction('convertToInteractive',\n",
              "                                                     [key], {});\n",
              "          if (!dataTable) return;\n",
              "\n",
              "          const docLinkHtml = 'Like what you see? Visit the ' +\n",
              "            '<a target=\"_blank\" href=https://colab.research.google.com/notebooks/data_table.ipynb>data table notebook</a>'\n",
              "            + ' to learn more about interactive tables.';\n",
              "          element.innerHTML = '';\n",
              "          dataTable['output_type'] = 'display_data';\n",
              "          await google.colab.output.renderOutput(dataTable, element);\n",
              "          const docLink = document.createElement('div');\n",
              "          docLink.innerHTML = docLinkHtml;\n",
              "          element.appendChild(docLink);\n",
              "        }\n",
              "      </script>\n",
              "    </div>\n",
              "  </div>\n",
              "  "
            ]
          },
          "metadata": {},
          "execution_count": 3
        }
      ],
      "source": [
        "data = pd.read_csv(\"/content/drive/MyDrive/YouTubeComment/Scrapped Comments/datacomment.csv\")\n",
        "print(data.shape)\n",
        "data.head()"
      ]
    },
    {
      "cell_type": "markdown",
      "metadata": {
        "id": "KsQHIdlzJhCA"
      },
      "source": [
        "### Removal of Duplicate Rows"
      ]
    },
    {
      "cell_type": "code",
      "execution_count": 4,
      "metadata": {
        "colab": {
          "base_uri": "https://localhost:8080/"
        },
        "id": "XxE4zBB1BERO",
        "outputId": "914b5ebc-561a-4605-a97d-5668d43510c3"
      },
      "outputs": [
        {
          "output_type": "stream",
          "name": "stdout",
          "text": [
            "Number of rows deleted: 25341\n",
            "Number of rows after duplicate removal: 497137\n",
            "% of data removed: 4.850156370220373\n"
          ]
        }
      ],
      "source": [
        "a = data.shape[0]\n",
        "data = data[~data.duplicated(subset=['comment'],keep='first')].sort_values(by=['comment'],ascending=False)\n",
        "b = data.shape[0]\n",
        "print(\"Number of rows deleted: {}\".format(a-b))\n",
        "print(\"Number of rows after duplicate removal: {}\".format(data.shape[0]))\n",
        "print(\"% of data removed: {}\".format((a-b)*100/a))"
      ]
    },
    {
      "cell_type": "markdown",
      "metadata": {
        "id": "WCClh7xeJoxZ"
      },
      "source": [
        "##### Observation  \n",
        "\n",
        "\n",
        "*   About 25K rows were found to be duplicates. We dropped all those rows as they won't add values to our dataset.\n",
        "\n",
        "\n",
        "\n",
        "\n",
        "\n",
        "\n"
      ]
    },
    {
      "cell_type": "markdown",
      "source": [
        "### Missing Value Plot"
      ],
      "metadata": {
        "id": "SUX1_KZ8BaVg"
      }
    },
    {
      "cell_type": "code",
      "execution_count": 5,
      "metadata": {
        "colab": {
          "base_uri": "https://localhost:8080/",
          "height": 753
        },
        "id": "Vu3Gnft7BEOK",
        "outputId": "d9663f11-e8ea-417b-8315-0daafd92d442"
      },
      "outputs": [
        {
          "output_type": "stream",
          "name": "stdout",
          "text": [
            "user_id      1138\n",
            "comment         1\n",
            "likes      389015\n",
            "rank            0\n",
            "source          0\n",
            "dtype: int64\n"
          ]
        },
        {
          "output_type": "execute_result",
          "data": {
            "text/plain": [
              "<matplotlib.axes._subplots.AxesSubplot at 0x7fc7a02c2b10>"
            ]
          },
          "metadata": {},
          "execution_count": 5
        },
        {
          "output_type": "display_data",
          "data": {
            "text/plain": [
              "<Figure size 1800x720 with 3 Axes>"
            ],
            "image/png": "[encoded data removed]"
          },
          "metadata": {
            "needs_background": "light"
          }
        }
      ],
      "source": [
        "print(data.isnull().sum())\n",
        "plt.figure(figsize=(10,6))\n",
        "msno.bar(data.sample(data.shape[0]))"
      ]
    },
    {
      "cell_type": "code",
      "execution_count": 6,
      "metadata": {
        "id": "HhAIUSnxYVpR"
      },
      "outputs": [],
      "source": [
        "# data['user_id'].fillna(value=\"Anonymus\",inplace=True)\n",
        "data['comment'].fillna(value=\" \",inplace=True)"
      ]
    },
    {
      "cell_type": "code",
      "source": [
        "print(data[data['user_id'].isnull()].shape)\n",
        "data[data['user_id'].isnull()].head()"
      ],
      "metadata": {
        "colab": {
          "base_uri": "https://localhost:8080/",
          "height": 225
        },
        "id": "h9P1kEETRzh2",
        "outputId": "91b28cc5-d383-432c-bef1-e4b5d6ec9a55"
      },
      "execution_count": 7,
      "outputs": [
        {
          "output_type": "stream",
          "name": "stdout",
          "text": [
            "(1138, 5)\n"
          ]
        },
        {
          "output_type": "execute_result",
          "data": {
            "text/plain": [
              "       user_id                                            comment likes  rank  \\\n",
              "41046      NaN                            🤩 Really Informative ✌🔥     1    12   \n",
              "19236      NaN                         😍🥰 Thank you @Geekyranjit!    26     3   \n",
              "265105     NaN                                                  📝   NaN   872   \n",
              "406943     NaN                                               💜💜💜💜   NaN   224   \n",
              "190388     NaN  👉👉To DOSTO Channel Promotion Start ho Gya Hai ...     2   858   \n",
              "\n",
              "             source  \n",
              "41046   Geekyranjit  \n",
              "19236   Geekyranjit  \n",
              "265105  Geekyranjit  \n",
              "406943  Geekyranjit  \n",
              "190388  Geekyranjit  "
            ],
            "text/html": [
              "\n",
              "  <div id=\"df-75e68538-912f-4aa0-b1ce-bed77bf343df\">\n",
              "    <div class=\"colab-df-container\">\n",
              "      <div>\n",
              "<style scoped>\n",
              "    .dataframe tbody tr th:only-of-type {\n",
              "        vertical-align: middle;\n",
              "    }\n",
              "\n",
              "    .dataframe tbody tr th {\n",
              "        vertical-align: top;\n",
              "    }\n",
              "\n",
              "    .dataframe thead th {\n",
              "        text-align: right;\n",
              "    }\n",
              "</style>\n",
              "<table border=\"1\" class=\"dataframe\">\n",
              "  <thead>\n",
              "    <tr style=\"text-align: right;\">\n",
              "      <th></th>\n",
              "      <th>user_id</th>\n",
              "      <th>comment</th>\n",
              "      <th>likes</th>\n",
              "      <th>rank</th>\n",
              "      <th>source</th>\n",
              "    </tr>\n",
              "  </thead>\n",
              "  <tbody>\n",
              "    <tr>\n",
              "      <th>41046</th>\n",
              "      <td>NaN</td>\n",
              "      <td>🤩 Really Informative ✌🔥</td>\n",
              "      <td>1</td>\n",
              "      <td>12</td>\n",
              "      <td>Geekyranjit</td>\n",
              "    </tr>\n",
              "    <tr>\n",
              "      <th>19236</th>\n",
              "      <td>NaN</td>\n",
              "      <td>😍🥰 Thank you @Geekyranjit!</td>\n",
              "      <td>26</td>\n",
              "      <td>3</td>\n",
              "      <td>Geekyranjit</td>\n",
              "    </tr>\n",
              "    <tr>\n",
              "      <th>265105</th>\n",
              "      <td>NaN</td>\n",
              "      <td>📝</td>\n",
              "      <td>NaN</td>\n",
              "      <td>872</td>\n",
              "      <td>Geekyranjit</td>\n",
              "    </tr>\n",
              "    <tr>\n",
              "      <th>406943</th>\n",
              "      <td>NaN</td>\n",
              "      <td>💜💜💜💜</td>\n",
              "      <td>NaN</td>\n",
              "      <td>224</td>\n",
              "      <td>Geekyranjit</td>\n",
              "    </tr>\n",
              "    <tr>\n",
              "      <th>190388</th>\n",
              "      <td>NaN</td>\n",
              "      <td>👉👉To DOSTO Channel Promotion Start ho Gya Hai ...</td>\n",
              "      <td>2</td>\n",
              "      <td>858</td>\n",
              "      <td>Geekyranjit</td>\n",
              "    </tr>\n",
              "  </tbody>\n",
              "</table>\n",
              "</div>\n",
              "      <button class=\"colab-df-convert\" onclick=\"convertToInteractive('df-75e68538-912f-4aa0-b1ce-bed77bf343df')\"\n",
              "              title=\"Convert this dataframe to an interactive table.\"\n",
              "              style=\"display:none;\">\n",
              "        \n",
              "  <svg xmlns=\"http://www.w3.org/2000/svg\" height=\"24px\"viewBox=\"0 0 24 24\"\n",
              "       width=\"24px\">\n",
              "    <path d=\"M0 0h24v24H0V0z\" fill=\"none\"/>\n",
              "    <path d=\"M18.56 5.44l.94 2.06.94-2.06 2.06-.94-2.06-.94-.94-2.06-.94 2.06-2.06.94zm-11 1L8.5 8.5l.94-2.06 2.06-.94-2.06-.94L8.5 2.5l-.94 2.06-2.06.94zm10 10l.94 2.06.94-2.06 2.06-.94-2.06-.94-.94-2.06-.94 2.06-2.06.94z\"/><path d=\"M17.41 7.96l-1.37-1.37c-.4-.4-.92-.59-1.43-.59-.52 0-1.04.2-1.43.59L10.3 9.45l-7.72 7.72c-.78.78-.78 2.05 0 2.83L4 21.41c.39.39.9.59 1.41.59.51 0 1.02-.2 1.41-.59l7.78-7.78 2.81-2.81c.8-.78.8-2.07 0-2.86zM5.41 20L4 18.59l7.72-7.72 1.47 1.35L5.41 20z\"/>\n",
              "  </svg>\n",
              "      </button>\n",
              "      \n",
              "  <style>\n",
              "    .colab-df-container {\n",
              "      display:flex;\n",
              "      flex-wrap:wrap;\n",
              "      gap: 12px;\n",
              "    }\n",
              "\n",
              "    .colab-df-convert {\n",
              "      background-color: #E8F0FE;\n",
              "      border: none;\n",
              "      border-radius: 50%;\n",
              "      cursor: pointer;\n",
              "      display: none;\n",
              "      fill: #1967D2;\n",
              "      height: 32px;\n",
              "      padding: 0 0 0 0;\n",
              "      width: 32px;\n",
              "    }\n",
              "\n",
              "    .colab-df-convert:hover {\n",
              "      background-color: #E2EBFA;\n",
              "      box-shadow: 0px 1px 2px rgba(60, 64, 67, 0.3), 0px 1px 3px 1px rgba(60, 64, 67, 0.15);\n",
              "      fill: #174EA6;\n",
              "    }\n",
              "\n",
              "    [theme=dark] .colab-df-convert {\n",
              "      background-color: #3B4455;\n",
              "      fill: #D2E3FC;\n",
              "    }\n",
              "\n",
              "    [theme=dark] .colab-df-convert:hover {\n",
              "      background-color: #434B5C;\n",
              "      box-shadow: 0px 1px 3px 1px rgba(0, 0, 0, 0.15);\n",
              "      filter: drop-shadow(0px 1px 2px rgba(0, 0, 0, 0.3));\n",
              "      fill: #FFFFFF;\n",
              "    }\n",
              "  </style>\n",
              "\n",
              "      <script>\n",
              "        const buttonEl =\n",
              "          document.querySelector('#df-75e68538-912f-4aa0-b1ce-bed77bf343df button.colab-df-convert');\n",
              "        buttonEl.style.display =\n",
              "          google.colab.kernel.accessAllowed ? 'block' : 'none';\n",
              "\n",
              "        async function convertToInteractive(key) {\n",
              "          const element = document.querySelector('#df-75e68538-912f-4aa0-b1ce-bed77bf343df');\n",
              "          const dataTable =\n",
              "            await google.colab.kernel.invokeFunction('convertToInteractive',\n",
              "                                                     [key], {});\n",
              "          if (!dataTable) return;\n",
              "\n",
              "          const docLinkHtml = 'Like what you see? Visit the ' +\n",
              "            '<a target=\"_blank\" href=https://colab.research.google.com/notebooks/data_table.ipynb>data table notebook</a>'\n",
              "            + ' to learn more about interactive tables.';\n",
              "          element.innerHTML = '';\n",
              "          dataTable['output_type'] = 'display_data';\n",
              "          await google.colab.output.renderOutput(dataTable, element);\n",
              "          const docLink = document.createElement('div');\n",
              "          docLink.innerHTML = docLinkHtml;\n",
              "          element.appendChild(docLink);\n",
              "        }\n",
              "      </script>\n",
              "    </div>\n",
              "  </div>\n",
              "  "
            ]
          },
          "metadata": {},
          "execution_count": 7
        }
      ]
    },
    {
      "cell_type": "code",
      "execution_count": 8,
      "metadata": {
        "colab": {
          "base_uri": "https://localhost:8080/"
        },
        "id": "MSUGGA8PYVsD",
        "outputId": "c7d70857-55ef-40dc-8de7-48984b821f75"
      },
      "outputs": [
        {
          "output_type": "stream",
          "name": "stdout",
          "text": [
            "user_id      1138\n",
            "comment         0\n",
            "likes      389015\n",
            "rank            0\n",
            "source          0\n",
            "dtype: int64\n"
          ]
        }
      ],
      "source": [
        "print(data.isnull().sum())"
      ]
    },
    {
      "cell_type": "markdown",
      "source": [
        "# Removing Emoji character."
      ],
      "metadata": {
        "id": "7wTcVI-le8Gq"
      }
    },
    {
      "cell_type": "code",
      "execution_count": 9,
      "metadata": {
        "id": "Z17Hq50JYVmL"
      },
      "outputs": [],
      "source": [
        "import re\n",
        "\n",
        "def removeEmoji(data):\n",
        "    emoji_pattern = re.compile(\"[\"\n",
        "        u\"\\U0001F600-\\U0001F64F\"  # emoticons\n",
        "        u\"\\U0001F300-\\U0001F5FF\"  # symbols & pictographs\n",
        "        u\"\\U0001F680-\\U0001F6FF\"  # transport & map symbols\n",
        "        u\"\\U0001F1E0-\\U0001F1FF\"  # flags (iOS)\n",
        "        u\"\\U00002500-\\U00002BEF\"  # chinese char\n",
        "        u\"\\U00002702-\\U000027B0\"\n",
        "        u\"\\U00002702-\\U000027B0\"\n",
        "        u\"\\U000024C2-\\U0001F251\"\n",
        "        u\"\\U0001f926-\\U0001f937\"\n",
        "        u\"\\U00010000-\\U0010ffff\"\n",
        "        u\"\\u2640-\\u2642\" \n",
        "        u\"\\u2600-\\u2B55\"\n",
        "        u\"\\u200d\"\n",
        "        u\"\\u23cf\"\n",
        "        u\"\\u23e9\"\n",
        "        u\"\\u231a\"\n",
        "        u\"\\ufe0f\"  # dingbats\n",
        "        u\"\\u3030\"\n",
        "                      \"]+\", re.UNICODE)\n",
        "    comment =  re.sub(emoji_pattern, '', data)\n",
        "    return comment"
      ]
    },
    {
      "cell_type": "code",
      "execution_count": 10,
      "metadata": {
        "colab": {
          "base_uri": "https://localhost:8080/",
          "height": 316
        },
        "id": "dV2Sy97dBELY",
        "outputId": "2596e564-fd20-4d78-ca37-dc20d2e07af2"
      },
      "outputs": [
        {
          "output_type": "stream",
          "name": "stdout",
          "text": [
            "user_id    1138\n",
            "comment       0\n",
            "likes         0\n",
            "rank          0\n",
            "source        0\n",
            "dtype: int64\n"
          ]
        },
        {
          "output_type": "execute_result",
          "data": {
            "text/plain": [
              "                     user_id  \\\n",
              "75572           Kartik Arora   \n",
              "224456           Pankaj Rana   \n",
              "92020            Alex Shimla   \n",
              "186519  Shubham Sanket Swain   \n",
              "149586        Aniket Kalbhor   \n",
              "\n",
              "                                                  comment likes  rank  \\\n",
              "75572                                                 🧡💜💙     0   190   \n",
              "224456  🧠🤦‍♂️ If this year Asus didn't bring us new 5,...    52   413   \n",
              "92020   🥺🥺 Only samsung was one vendor that was not pu...     0   712   \n",
              "186519  🥺 Want to know about updates. By the way does ...     0   247   \n",
              "149586                             🥶Amazing piece of Tech     0   369   \n",
              "\n",
              "             source  \n",
              "75572   Geekyranjit  \n",
              "224456  Geekyranjit  \n",
              "92020   Geekyranjit  \n",
              "186519  Geekyranjit  \n",
              "149586  Geekyranjit  "
            ],
            "text/html": [
              "\n",
              "  <div id=\"df-02199ec5-acd6-4994-9a61-63a5bace9ccb\">\n",
              "    <div class=\"colab-df-container\">\n",
              "      <div>\n",
              "<style scoped>\n",
              "    .dataframe tbody tr th:only-of-type {\n",
              "        vertical-align: middle;\n",
              "    }\n",
              "\n",
              "    .dataframe tbody tr th {\n",
              "        vertical-align: top;\n",
              "    }\n",
              "\n",
              "    .dataframe thead th {\n",
              "        text-align: right;\n",
              "    }\n",
              "</style>\n",
              "<table border=\"1\" class=\"dataframe\">\n",
              "  <thead>\n",
              "    <tr style=\"text-align: right;\">\n",
              "      <th></th>\n",
              "      <th>user_id</th>\n",
              "      <th>comment</th>\n",
              "      <th>likes</th>\n",
              "      <th>rank</th>\n",
              "      <th>source</th>\n",
              "    </tr>\n",
              "  </thead>\n",
              "  <tbody>\n",
              "    <tr>\n",
              "      <th>75572</th>\n",
              "      <td>Kartik Arora</td>\n",
              "      <td>🧡💜💙</td>\n",
              "      <td>0</td>\n",
              "      <td>190</td>\n",
              "      <td>Geekyranjit</td>\n",
              "    </tr>\n",
              "    <tr>\n",
              "      <th>224456</th>\n",
              "      <td>Pankaj Rana</td>\n",
              "      <td>🧠🤦‍♂️ If this year Asus didn't bring us new 5,...</td>\n",
              "      <td>52</td>\n",
              "      <td>413</td>\n",
              "      <td>Geekyranjit</td>\n",
              "    </tr>\n",
              "    <tr>\n",
              "      <th>92020</th>\n",
              "      <td>Alex Shimla</td>\n",
              "      <td>🥺🥺 Only samsung was one vendor that was not pu...</td>\n",
              "      <td>0</td>\n",
              "      <td>712</td>\n",
              "      <td>Geekyranjit</td>\n",
              "    </tr>\n",
              "    <tr>\n",
              "      <th>186519</th>\n",
              "      <td>Shubham Sanket Swain</td>\n",
              "      <td>🥺 Want to know about updates. By the way does ...</td>\n",
              "      <td>0</td>\n",
              "      <td>247</td>\n",
              "      <td>Geekyranjit</td>\n",
              "    </tr>\n",
              "    <tr>\n",
              "      <th>149586</th>\n",
              "      <td>Aniket Kalbhor</td>\n",
              "      <td>🥶Amazing piece of Tech</td>\n",
              "      <td>0</td>\n",
              "      <td>369</td>\n",
              "      <td>Geekyranjit</td>\n",
              "    </tr>\n",
              "  </tbody>\n",
              "</table>\n",
              "</div>\n",
              "      <button class=\"colab-df-convert\" onclick=\"convertToInteractive('df-02199ec5-acd6-4994-9a61-63a5bace9ccb')\"\n",
              "              title=\"Convert this dataframe to an interactive table.\"\n",
              "              style=\"display:none;\">\n",
              "        \n",
              "  <svg xmlns=\"http://www.w3.org/2000/svg\" height=\"24px\"viewBox=\"0 0 24 24\"\n",
              "       width=\"24px\">\n",
              "    <path d=\"M0 0h24v24H0V0z\" fill=\"none\"/>\n",
              "    <path d=\"M18.56 5.44l.94 2.06.94-2.06 2.06-.94-2.06-.94-.94-2.06-.94 2.06-2.06.94zm-11 1L8.5 8.5l.94-2.06 2.06-.94-2.06-.94L8.5 2.5l-.94 2.06-2.06.94zm10 10l.94 2.06.94-2.06 2.06-.94-2.06-.94-.94-2.06-.94 2.06-2.06.94z\"/><path d=\"M17.41 7.96l-1.37-1.37c-.4-.4-.92-.59-1.43-.59-.52 0-1.04.2-1.43.59L10.3 9.45l-7.72 7.72c-.78.78-.78 2.05 0 2.83L4 21.41c.39.39.9.59 1.41.59.51 0 1.02-.2 1.41-.59l7.78-7.78 2.81-2.81c.8-.78.8-2.07 0-2.86zM5.41 20L4 18.59l7.72-7.72 1.47 1.35L5.41 20z\"/>\n",
              "  </svg>\n",
              "      </button>\n",
              "      \n",
              "  <style>\n",
              "    .colab-df-container {\n",
              "      display:flex;\n",
              "      flex-wrap:wrap;\n",
              "      gap: 12px;\n",
              "    }\n",
              "\n",
              "    .colab-df-convert {\n",
              "      background-color: #E8F0FE;\n",
              "      border: none;\n",
              "      border-radius: 50%;\n",
              "      cursor: pointer;\n",
              "      display: none;\n",
              "      fill: #1967D2;\n",
              "      height: 32px;\n",
              "      padding: 0 0 0 0;\n",
              "      width: 32px;\n",
              "    }\n",
              "\n",
              "    .colab-df-convert:hover {\n",
              "      background-color: #E2EBFA;\n",
              "      box-shadow: 0px 1px 2px rgba(60, 64, 67, 0.3), 0px 1px 3px 1px rgba(60, 64, 67, 0.15);\n",
              "      fill: #174EA6;\n",
              "    }\n",
              "\n",
              "    [theme=dark] .colab-df-convert {\n",
              "      background-color: #3B4455;\n",
              "      fill: #D2E3FC;\n",
              "    }\n",
              "\n",
              "    [theme=dark] .colab-df-convert:hover {\n",
              "      background-color: #434B5C;\n",
              "      box-shadow: 0px 1px 3px 1px rgba(0, 0, 0, 0.15);\n",
              "      filter: drop-shadow(0px 1px 2px rgba(0, 0, 0, 0.3));\n",
              "      fill: #FFFFFF;\n",
              "    }\n",
              "  </style>\n",
              "\n",
              "      <script>\n",
              "        const buttonEl =\n",
              "          document.querySelector('#df-02199ec5-acd6-4994-9a61-63a5bace9ccb button.colab-df-convert');\n",
              "        buttonEl.style.display =\n",
              "          google.colab.kernel.accessAllowed ? 'block' : 'none';\n",
              "\n",
              "        async function convertToInteractive(key) {\n",
              "          const element = document.querySelector('#df-02199ec5-acd6-4994-9a61-63a5bace9ccb');\n",
              "          const dataTable =\n",
              "            await google.colab.kernel.invokeFunction('convertToInteractive',\n",
              "                                                     [key], {});\n",
              "          if (!dataTable) return;\n",
              "\n",
              "          const docLinkHtml = 'Like what you see? Visit the ' +\n",
              "            '<a target=\"_blank\" href=https://colab.research.google.com/notebooks/data_table.ipynb>data table notebook</a>'\n",
              "            + ' to learn more about interactive tables.';\n",
              "          element.innerHTML = '';\n",
              "          dataTable['output_type'] = 'display_data';\n",
              "          await google.colab.output.renderOutput(dataTable, element);\n",
              "          const docLink = document.createElement('div');\n",
              "          docLink.innerHTML = docLinkHtml;\n",
              "          element.appendChild(docLink);\n",
              "        }\n",
              "      </script>\n",
              "    </div>\n",
              "  </div>\n",
              "  "
            ]
          },
          "metadata": {},
          "execution_count": 10
        }
      ],
      "source": [
        "data['likes'].fillna(value=0,inplace=True)\n",
        "print(data.isnull().sum())\n",
        "data.head()"
      ]
    },
    {
      "cell_type": "code",
      "source": [
        "data['comment'] = data['comment'].apply(lambda x:removeEmoji(x))\n",
        "data.head()"
      ],
      "metadata": {
        "colab": {
          "base_uri": "https://localhost:8080/",
          "height": 206
        },
        "id": "bA0A_ZGIdewy",
        "outputId": "04715f33-fab0-43dc-9467-de294faaa613"
      },
      "execution_count": 11,
      "outputs": [
        {
          "output_type": "execute_result",
          "data": {
            "text/plain": [
              "                     user_id  \\\n",
              "75572           Kartik Arora   \n",
              "224456           Pankaj Rana   \n",
              "92020            Alex Shimla   \n",
              "186519  Shubham Sanket Swain   \n",
              "149586        Aniket Kalbhor   \n",
              "\n",
              "                                                  comment likes  rank  \\\n",
              "75572                                                         0   190   \n",
              "224456   If this year Asus didn't bring us new 5,000 -...    52   413   \n",
              "92020    Only samsung was one vendor that was not push...     0   712   \n",
              "186519   Want to know about updates. By the way does t...     0   247   \n",
              "149586                              Amazing piece of Tech     0   369   \n",
              "\n",
              "             source  \n",
              "75572   Geekyranjit  \n",
              "224456  Geekyranjit  \n",
              "92020   Geekyranjit  \n",
              "186519  Geekyranjit  \n",
              "149586  Geekyranjit  "
            ],
            "text/html": [
              "\n",
              "  <div id=\"df-617e1054-7c60-4c4a-b8df-b00aee017ccd\">\n",
              "    <div class=\"colab-df-container\">\n",
              "      <div>\n",
              "<style scoped>\n",
              "    .dataframe tbody tr th:only-of-type {\n",
              "        vertical-align: middle;\n",
              "    }\n",
              "\n",
              "    .dataframe tbody tr th {\n",
              "        vertical-align: top;\n",
              "    }\n",
              "\n",
              "    .dataframe thead th {\n",
              "        text-align: right;\n",
              "    }\n",
              "</style>\n",
              "<table border=\"1\" class=\"dataframe\">\n",
              "  <thead>\n",
              "    <tr style=\"text-align: right;\">\n",
              "      <th></th>\n",
              "      <th>user_id</th>\n",
              "      <th>comment</th>\n",
              "      <th>likes</th>\n",
              "      <th>rank</th>\n",
              "      <th>source</th>\n",
              "    </tr>\n",
              "  </thead>\n",
              "  <tbody>\n",
              "    <tr>\n",
              "      <th>75572</th>\n",
              "      <td>Kartik Arora</td>\n",
              "      <td></td>\n",
              "      <td>0</td>\n",
              "      <td>190</td>\n",
              "      <td>Geekyranjit</td>\n",
              "    </tr>\n",
              "    <tr>\n",
              "      <th>224456</th>\n",
              "      <td>Pankaj Rana</td>\n",
              "      <td>If this year Asus didn't bring us new 5,000 -...</td>\n",
              "      <td>52</td>\n",
              "      <td>413</td>\n",
              "      <td>Geekyranjit</td>\n",
              "    </tr>\n",
              "    <tr>\n",
              "      <th>92020</th>\n",
              "      <td>Alex Shimla</td>\n",
              "      <td>Only samsung was one vendor that was not push...</td>\n",
              "      <td>0</td>\n",
              "      <td>712</td>\n",
              "      <td>Geekyranjit</td>\n",
              "    </tr>\n",
              "    <tr>\n",
              "      <th>186519</th>\n",
              "      <td>Shubham Sanket Swain</td>\n",
              "      <td>Want to know about updates. By the way does t...</td>\n",
              "      <td>0</td>\n",
              "      <td>247</td>\n",
              "      <td>Geekyranjit</td>\n",
              "    </tr>\n",
              "    <tr>\n",
              "      <th>149586</th>\n",
              "      <td>Aniket Kalbhor</td>\n",
              "      <td>Amazing piece of Tech</td>\n",
              "      <td>0</td>\n",
              "      <td>369</td>\n",
              "      <td>Geekyranjit</td>\n",
              "    </tr>\n",
              "  </tbody>\n",
              "</table>\n",
              "</div>\n",
              "      <button class=\"colab-df-convert\" onclick=\"convertToInteractive('df-617e1054-7c60-4c4a-b8df-b00aee017ccd')\"\n",
              "              title=\"Convert this dataframe to an interactive table.\"\n",
              "              style=\"display:none;\">\n",
              "        \n",
              "  <svg xmlns=\"http://www.w3.org/2000/svg\" height=\"24px\"viewBox=\"0 0 24 24\"\n",
              "       width=\"24px\">\n",
              "    <path d=\"M0 0h24v24H0V0z\" fill=\"none\"/>\n",
              "    <path d=\"M18.56 5.44l.94 2.06.94-2.06 2.06-.94-2.06-.94-.94-2.06-.94 2.06-2.06.94zm-11 1L8.5 8.5l.94-2.06 2.06-.94-2.06-.94L8.5 2.5l-.94 2.06-2.06.94zm10 10l.94 2.06.94-2.06 2.06-.94-2.06-.94-.94-2.06-.94 2.06-2.06.94z\"/><path d=\"M17.41 7.96l-1.37-1.37c-.4-.4-.92-.59-1.43-.59-.52 0-1.04.2-1.43.59L10.3 9.45l-7.72 7.72c-.78.78-.78 2.05 0 2.83L4 21.41c.39.39.9.59 1.41.59.51 0 1.02-.2 1.41-.59l7.78-7.78 2.81-2.81c.8-.78.8-2.07 0-2.86zM5.41 20L4 18.59l7.72-7.72 1.47 1.35L5.41 20z\"/>\n",
              "  </svg>\n",
              "      </button>\n",
              "      \n",
              "  <style>\n",
              "    .colab-df-container {\n",
              "      display:flex;\n",
              "      flex-wrap:wrap;\n",
              "      gap: 12px;\n",
              "    }\n",
              "\n",
              "    .colab-df-convert {\n",
              "      background-color: #E8F0FE;\n",
              "      border: none;\n",
              "      border-radius: 50%;\n",
              "      cursor: pointer;\n",
              "      display: none;\n",
              "      fill: #1967D2;\n",
              "      height: 32px;\n",
              "      padding: 0 0 0 0;\n",
              "      width: 32px;\n",
              "    }\n",
              "\n",
              "    .colab-df-convert:hover {\n",
              "      background-color: #E2EBFA;\n",
              "      box-shadow: 0px 1px 2px rgba(60, 64, 67, 0.3), 0px 1px 3px 1px rgba(60, 64, 67, 0.15);\n",
              "      fill: #174EA6;\n",
              "    }\n",
              "\n",
              "    [theme=dark] .colab-df-convert {\n",
              "      background-color: #3B4455;\n",
              "      fill: #D2E3FC;\n",
              "    }\n",
              "\n",
              "    [theme=dark] .colab-df-convert:hover {\n",
              "      background-color: #434B5C;\n",
              "      box-shadow: 0px 1px 3px 1px rgba(0, 0, 0, 0.15);\n",
              "      filter: drop-shadow(0px 1px 2px rgba(0, 0, 0, 0.3));\n",
              "      fill: #FFFFFF;\n",
              "    }\n",
              "  </style>\n",
              "\n",
              "      <script>\n",
              "        const buttonEl =\n",
              "          document.querySelector('#df-617e1054-7c60-4c4a-b8df-b00aee017ccd button.colab-df-convert');\n",
              "        buttonEl.style.display =\n",
              "          google.colab.kernel.accessAllowed ? 'block' : 'none';\n",
              "\n",
              "        async function convertToInteractive(key) {\n",
              "          const element = document.querySelector('#df-617e1054-7c60-4c4a-b8df-b00aee017ccd');\n",
              "          const dataTable =\n",
              "            await google.colab.kernel.invokeFunction('convertToInteractive',\n",
              "                                                     [key], {});\n",
              "          if (!dataTable) return;\n",
              "\n",
              "          const docLinkHtml = 'Like what you see? Visit the ' +\n",
              "            '<a target=\"_blank\" href=https://colab.research.google.com/notebooks/data_table.ipynb>data table notebook</a>'\n",
              "            + ' to learn more about interactive tables.';\n",
              "          element.innerHTML = '';\n",
              "          dataTable['output_type'] = 'display_data';\n",
              "          await google.colab.output.renderOutput(dataTable, element);\n",
              "          const docLink = document.createElement('div');\n",
              "          docLink.innerHTML = docLinkHtml;\n",
              "          element.appendChild(docLink);\n",
              "        }\n",
              "      </script>\n",
              "    </div>\n",
              "  </div>\n",
              "  "
            ]
          },
          "metadata": {},
          "execution_count": 11
        }
      ]
    },
    {
      "cell_type": "markdown",
      "source": [
        "# Removing all comments whose length is less than or equal to 2"
      ],
      "metadata": {
        "id": "NfUJuJq5kJPh"
      }
    },
    {
      "cell_type": "code",
      "source": [
        "data['comment'] = data['comment'].apply(lambda x: x if len(x) > 2 else np.nan)\n",
        "data.dropna(subset=['comment'],inplace=True)\n",
        "print(data.isnull().sum())"
      ],
      "metadata": {
        "colab": {
          "base_uri": "https://localhost:8080/"
        },
        "id": "WK7mTlgtfCK5",
        "outputId": "a067097b-730a-4d81-a112-6d330b54e1d6"
      },
      "execution_count": 12,
      "outputs": [
        {
          "output_type": "stream",
          "name": "stdout",
          "text": [
            "user_id    1136\n",
            "comment       0\n",
            "likes         0\n",
            "rank          0\n",
            "source        0\n",
            "dtype: int64\n"
          ]
        }
      ]
    },
    {
      "cell_type": "markdown",
      "source": [
        "# Dropping the 'source' and 'ranking' columns."
      ],
      "metadata": {
        "id": "8v9sUERhkqnB"
      }
    },
    {
      "cell_type": "code",
      "source": [
        "data.drop(columns=['source','rank'],inplace=True)\n",
        "print(data.shape)\n",
        "data.head()"
      ],
      "metadata": {
        "colab": {
          "base_uri": "https://localhost:8080/",
          "height": 225
        },
        "id": "7r8MAYIvinH7",
        "outputId": "4ac81eea-1761-47e9-a713-a4822015e129"
      },
      "execution_count": 13,
      "outputs": [
        {
          "output_type": "stream",
          "name": "stdout",
          "text": [
            "(496425, 3)\n"
          ]
        },
        {
          "output_type": "execute_result",
          "data": {
            "text/plain": [
              "                        user_id  \\\n",
              "224456              Pankaj Rana   \n",
              "92020               Alex Shimla   \n",
              "186519     Shubham Sanket Swain   \n",
              "149586           Aniket Kalbhor   \n",
              "455964  Twitch- xjuiceboxtwitch   \n",
              "\n",
              "                                                  comment likes  \n",
              "224456   If this year Asus didn't bring us new 5,000 -...    52  \n",
              "92020    Only samsung was one vendor that was not push...     0  \n",
              "186519   Want to know about updates. By the way does t...     0  \n",
              "149586                              Amazing piece of Tech     0  \n",
              "455964                                 JUST BOUGHT BLUE 1   1.0  "
            ],
            "text/html": [
              "\n",
              "  <div id=\"df-e4619820-82a0-46e9-b1e0-1be4d01db12c\">\n",
              "    <div class=\"colab-df-container\">\n",
              "      <div>\n",
              "<style scoped>\n",
              "    .dataframe tbody tr th:only-of-type {\n",
              "        vertical-align: middle;\n",
              "    }\n",
              "\n",
              "    .dataframe tbody tr th {\n",
              "        vertical-align: top;\n",
              "    }\n",
              "\n",
              "    .dataframe thead th {\n",
              "        text-align: right;\n",
              "    }\n",
              "</style>\n",
              "<table border=\"1\" class=\"dataframe\">\n",
              "  <thead>\n",
              "    <tr style=\"text-align: right;\">\n",
              "      <th></th>\n",
              "      <th>user_id</th>\n",
              "      <th>comment</th>\n",
              "      <th>likes</th>\n",
              "    </tr>\n",
              "  </thead>\n",
              "  <tbody>\n",
              "    <tr>\n",
              "      <th>224456</th>\n",
              "      <td>Pankaj Rana</td>\n",
              "      <td>If this year Asus didn't bring us new 5,000 -...</td>\n",
              "      <td>52</td>\n",
              "    </tr>\n",
              "    <tr>\n",
              "      <th>92020</th>\n",
              "      <td>Alex Shimla</td>\n",
              "      <td>Only samsung was one vendor that was not push...</td>\n",
              "      <td>0</td>\n",
              "    </tr>\n",
              "    <tr>\n",
              "      <th>186519</th>\n",
              "      <td>Shubham Sanket Swain</td>\n",
              "      <td>Want to know about updates. By the way does t...</td>\n",
              "      <td>0</td>\n",
              "    </tr>\n",
              "    <tr>\n",
              "      <th>149586</th>\n",
              "      <td>Aniket Kalbhor</td>\n",
              "      <td>Amazing piece of Tech</td>\n",
              "      <td>0</td>\n",
              "    </tr>\n",
              "    <tr>\n",
              "      <th>455964</th>\n",
              "      <td>Twitch- xjuiceboxtwitch</td>\n",
              "      <td>JUST BOUGHT BLUE 1</td>\n",
              "      <td>1.0</td>\n",
              "    </tr>\n",
              "  </tbody>\n",
              "</table>\n",
              "</div>\n",
              "      <button class=\"colab-df-convert\" onclick=\"convertToInteractive('df-e4619820-82a0-46e9-b1e0-1be4d01db12c')\"\n",
              "              title=\"Convert this dataframe to an interactive table.\"\n",
              "              style=\"display:none;\">\n",
              "        \n",
              "  <svg xmlns=\"http://www.w3.org/2000/svg\" height=\"24px\"viewBox=\"0 0 24 24\"\n",
              "       width=\"24px\">\n",
              "    <path d=\"M0 0h24v24H0V0z\" fill=\"none\"/>\n",
              "    <path d=\"M18.56 5.44l.94 2.06.94-2.06 2.06-.94-2.06-.94-.94-2.06-.94 2.06-2.06.94zm-11 1L8.5 8.5l.94-2.06 2.06-.94-2.06-.94L8.5 2.5l-.94 2.06-2.06.94zm10 10l.94 2.06.94-2.06 2.06-.94-2.06-.94-.94-2.06-.94 2.06-2.06.94z\"/><path d=\"M17.41 7.96l-1.37-1.37c-.4-.4-.92-.59-1.43-.59-.52 0-1.04.2-1.43.59L10.3 9.45l-7.72 7.72c-.78.78-.78 2.05 0 2.83L4 21.41c.39.39.9.59 1.41.59.51 0 1.02-.2 1.41-.59l7.78-7.78 2.81-2.81c.8-.78.8-2.07 0-2.86zM5.41 20L4 18.59l7.72-7.72 1.47 1.35L5.41 20z\"/>\n",
              "  </svg>\n",
              "      </button>\n",
              "      \n",
              "  <style>\n",
              "    .colab-df-container {\n",
              "      display:flex;\n",
              "      flex-wrap:wrap;\n",
              "      gap: 12px;\n",
              "    }\n",
              "\n",
              "    .colab-df-convert {\n",
              "      background-color: #E8F0FE;\n",
              "      border: none;\n",
              "      border-radius: 50%;\n",
              "      cursor: pointer;\n",
              "      display: none;\n",
              "      fill: #1967D2;\n",
              "      height: 32px;\n",
              "      padding: 0 0 0 0;\n",
              "      width: 32px;\n",
              "    }\n",
              "\n",
              "    .colab-df-convert:hover {\n",
              "      background-color: #E2EBFA;\n",
              "      box-shadow: 0px 1px 2px rgba(60, 64, 67, 0.3), 0px 1px 3px 1px rgba(60, 64, 67, 0.15);\n",
              "      fill: #174EA6;\n",
              "    }\n",
              "\n",
              "    [theme=dark] .colab-df-convert {\n",
              "      background-color: #3B4455;\n",
              "      fill: #D2E3FC;\n",
              "    }\n",
              "\n",
              "    [theme=dark] .colab-df-convert:hover {\n",
              "      background-color: #434B5C;\n",
              "      box-shadow: 0px 1px 3px 1px rgba(0, 0, 0, 0.15);\n",
              "      filter: drop-shadow(0px 1px 2px rgba(0, 0, 0, 0.3));\n",
              "      fill: #FFFFFF;\n",
              "    }\n",
              "  </style>\n",
              "\n",
              "      <script>\n",
              "        const buttonEl =\n",
              "          document.querySelector('#df-e4619820-82a0-46e9-b1e0-1be4d01db12c button.colab-df-convert');\n",
              "        buttonEl.style.display =\n",
              "          google.colab.kernel.accessAllowed ? 'block' : 'none';\n",
              "\n",
              "        async function convertToInteractive(key) {\n",
              "          const element = document.querySelector('#df-e4619820-82a0-46e9-b1e0-1be4d01db12c');\n",
              "          const dataTable =\n",
              "            await google.colab.kernel.invokeFunction('convertToInteractive',\n",
              "                                                     [key], {});\n",
              "          if (!dataTable) return;\n",
              "\n",
              "          const docLinkHtml = 'Like what you see? Visit the ' +\n",
              "            '<a target=\"_blank\" href=https://colab.research.google.com/notebooks/data_table.ipynb>data table notebook</a>'\n",
              "            + ' to learn more about interactive tables.';\n",
              "          element.innerHTML = '';\n",
              "          dataTable['output_type'] = 'display_data';\n",
              "          await google.colab.output.renderOutput(dataTable, element);\n",
              "          const docLink = document.createElement('div');\n",
              "          docLink.innerHTML = docLinkHtml;\n",
              "          element.appendChild(docLink);\n",
              "        }\n",
              "      </script>\n",
              "    </div>\n",
              "  </div>\n",
              "  "
            ]
          },
          "metadata": {},
          "execution_count": 13
        }
      ]
    },
    {
      "cell_type": "code",
      "source": [
        "dir = \"/content/drive/MyDrive/YouTubeComment/preprocessedcomment.csv\"\n",
        "if os.path.isfile(dir):\n",
        "    print(\"Saving...\")\n",
        "    data.to_csv(\"/content/drive/MyDrive/YouTubeComment/preprocessed.csv\",index=False)\n",
        "    print(\"File Saved.\")\n",
        "else:\n",
        "    print(\"File already exist !!\")"
      ],
      "metadata": {
        "colab": {
          "base_uri": "https://localhost:8080/"
        },
        "id": "-nVb752_8GIr",
        "outputId": "02900dbf-e4d9-46c2-95ca-b27bd3f7d0ac"
      },
      "execution_count": 14,
      "outputs": [
        {
          "output_type": "stream",
          "name": "stdout",
          "text": [
            "File already exist !!\n"
          ]
        }
      ]
    }
  ],
  "metadata": {
    "colab": {
      "collapsed_sections": [],
      "name": "YoutubeComment Preprocessing.ipynb",
      "provenance": []
    },
    "kernelspec": {
      "display_name": "Python 3",
      "name": "python3"
    },
    "language_info": {
      "name": "python"
    }
  },
  "nbformat": 4,
  "nbformat_minor": 0
}